{
  "nbformat": 4,
  "nbformat_minor": 0,
  "metadata": {
    "colab": {
      "provenance": [],
      "toc_visible": true
    },
    "kernelspec": {
      "name": "python3",
      "display_name": "Python 3"
    },
    "language_info": {
      "name": "python"
    }
  },
  "cells": [
    {
      "cell_type": "markdown",
      "source": [
        "# **Module**\n",
        "\n",
        "- python module = .py\n",
        "- import 문을 사용, module 호출"
      ],
      "metadata": {
        "id": "jtWcRTIHdNvh"
      }
    },
    {
      "cell_type": "code",
      "execution_count": null,
      "metadata": {
        "id": "t9ekCh9jnz1Z"
      },
      "outputs": [],
      "source": [
        "# fah_converter.py\n",
        "\n",
        "def convert_c_to_f(celcius_value):\n",
        "  return celcius_value * 9.0 / 5 + 32"
      ]
    },
    {
      "cell_type": "code",
      "source": [
        "# module_ex.py\n",
        "\n",
        "import fah_converter\n",
        "\n",
        "print(\"Enter a celcius value: \"),    # 여기 쉼표 있으면?\n",
        "celcius = float(input())\n",
        "fahrenheit = fah_converter.convert_c_to_f(celcius)\n",
        "print(\"That's \", fahrenheit, \" degrees Fahrenheit\")"
      ],
      "metadata": {
        "id": "yLReRvHNdpUd"
      },
      "execution_count": null,
      "outputs": []
    },
    {
      "cell_type": "markdown",
      "source": [
        "# Namespace\n",
        "\n",
        "- 모듈 안에는 함수, 클래스 등 다양\n",
        "- 그 중에 필요한 것만 골라 호출\n",
        "- from 파일명 import 호출할것"
      ],
      "metadata": {
        "id": "Jmvxoox2eMa2"
      }
    },
    {
      "cell_type": "code",
      "source": [
        "# Alias\n",
        "\n",
        "import fah_converter as fah\n",
        "print(fah.convert_c_to_f(41.6))"
      ],
      "metadata": {
        "id": "ZuU3m8PLem7F"
      },
      "execution_count": null,
      "outputs": []
    },
    {
      "cell_type": "code",
      "source": [
        "# 모듈에서 특정 함수 또는 클래스만 호출\n",
        "\n",
        "from fah_converter import convert_c_to_f\n",
        "print(convert_c_to_f(41.6))"
      ],
      "metadata": {
        "id": "Yyw-24C9evew"
      },
      "execution_count": null,
      "outputs": []
    },
    {
      "cell_type": "code",
      "source": [
        "from fag_converter import *\n",
        "print(convert_c_to_f(41.6))"
      ],
      "metadata": {
        "id": "KqNNPz-7e4yw"
      },
      "execution_count": null,
      "outputs": []
    },
    {
      "cell_type": "markdown",
      "source": [
        "# Built-in Module\n",
        "\n",
        "https://docs.python.org/3/library/"
      ],
      "metadata": {
        "id": "h6q_zmpAfF6x"
      }
    },
    {
      "cell_type": "code",
      "source": [
        "import random #as rd\n",
        "print(random.randint(0, 100))\n",
        "print(random.random())"
      ],
      "metadata": {
        "id": "8wK-p2c0fJ95"
      },
      "execution_count": null,
      "outputs": []
    },
    {
      "cell_type": "code",
      "source": [
        "import time\n",
        "print(time.localtime())"
      ],
      "metadata": {
        "id": "kwsPKskffYJV"
      },
      "execution_count": null,
      "outputs": []
    },
    {
      "cell_type": "code",
      "source": [
        "import urllib.request\n",
        "response = urllib.request.urlopen(\"https://docs.python.org/3/library\")\n",
        "print(response.read())"
      ],
      "metadata": {
        "id": "Up9kXA6vfc-7"
      },
      "execution_count": null,
      "outputs": []
    },
    {
      "cell_type": "markdown",
      "source": [
        "# Package\n",
        "- 대형 프로젝트를 만드는 코드의 묶음\n",
        "- 다양한 모듈들의 합, 폴더로 연결\n",
        "- __init__, __main__\n",
        "\n",
        "https://wikidocs.net/1418\n",
        "https://git-hub.com/scikit-learn"
      ],
      "metadata": {
        "id": "b-zKF_waf372"
      }
    },
    {
      "cell_type": "markdown",
      "source": [
        "1. 기능들을 세부적으로 나눠 폴더화 \n",
        "2. 각 폴더별로 필요한 모듈 (component)\n",
        "3. 모듈 구현\n",
        "4. __init__.py 구성\n",
        "5. __main__.py (App.js)"
      ],
      "metadata": {
        "id": "xotlfpxflwuB"
      }
    },
    {
      "cell_type": "code",
      "source": [],
      "metadata": {
        "id": "50fO6jk_f1yL"
      },
      "execution_count": null,
      "outputs": []
    }
  ]
}