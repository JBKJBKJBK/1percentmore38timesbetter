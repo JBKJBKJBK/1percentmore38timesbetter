{
  "nbformat": 4,
  "nbformat_minor": 0,
  "metadata": {
    "colab": {
      "provenance": [],
      "toc_visible": true
    },
    "kernelspec": {
      "name": "python3",
      "display_name": "Python 3"
    },
    "language_info": {
      "name": "python"
    }
  },
  "cells": [
    {
      "cell_type": "markdown",
      "source": [
        "# class 선언"
      ],
      "metadata": {
        "id": "u3ZO0B1UNEUQ"
      }
    },
    {
      "cell_type": "code",
      "source": [
        "class SoccerPlayer(object):\n",
        "  pass\n",
        "\n",
        "abc = SoccerPlayer()\n",
        "#abc 객체, SoccerPlayer 객체/class"
      ],
      "metadata": {
        "id": "P2m4Et6OKmt7"
      },
      "execution_count": 22,
      "outputs": []
    },
    {
      "cell_type": "code",
      "source": [
        "abc = SoccerPlayer()\n",
        "de = SoccerPlayer()\n",
        "\n",
        "abc is de  #다른 객체임"
      ],
      "metadata": {
        "colab": {
          "base_uri": "https://localhost:8080/"
        },
        "id": "bMkHf5JX_2_V",
        "outputId": "ea55d793-d769-4927-9457-0cf5fd059f09"
      },
      "execution_count": 23,
      "outputs": [
        {
          "output_type": "execute_result",
          "data": {
            "text/plain": [
              "False"
            ]
          },
          "metadata": {},
          "execution_count": 23
        }
      ]
    },
    {
      "cell_type": "markdown",
      "source": [
        "# 속성\n",
        "\n",
        "**self **\n",
        "- 생성된 instance 자신\n",
        "- 객체 자신을 class 안에서 가리키는 것.\n",
        "- 밖에서는 변수명으로 "
      ],
      "metadata": {
        "id": "3K3s4l01NMak"
      }
    },
    {
      "cell_type": "code",
      "execution_count": 32,
      "metadata": {
        "id": "VS_hOEVL-7pd"
      },
      "outputs": [],
      "source": [
        "#속성\n",
        "class SoccerPlayer(object):\n",
        "  # __ 언더바 두 개임, \"맨글링\"\n",
        "  # def __init__(self, name, position, back_number):\n",
        "  def __init__(self, name:str, position:str, back_number:int):\n",
        "    self.name = name\n",
        "    self.position = position\n",
        "    self.back_number = back_number\n",
        "\n",
        "  def __str__(self):\n",
        "    return 'Hello, my name is %s. I play in %s in certer' %(self.name, self.position)\n",
        "\n",
        "  def change_back_number(self, new_number):\n",
        "    print('선수의 등번호를 변경합니다 : From %d to %d' %(self.back_number, new_number))\n",
        "    self.back_number = new_number\n",
        "\n",
        "  #class 19:37\n",
        "  def __add__(self, other):\n",
        "    return self.name + \" \" + other.name "
      ]
    },
    {
      "cell_type": "markdown",
      "source": [
        "\n",
        "```\n",
        "def __str__(self):\n",
        "    return 'Hello, my name is %s. I play in %s in certer' %(self.name, self.position)\n",
        "```\n",
        "이 부분 없으면 아래 프린트 시, 객체의 주소가 나오고, \n",
        "이 부분 있으면 str로 나옴\n"
      ],
      "metadata": {
        "id": "MtwhigvwMBHD"
      }
    },
    {
      "cell_type": "code",
      "source": [
        "heungmin = SoccerPlayer('HM', 'stricker', 7)\n",
        "print(heungmin)"
      ],
      "metadata": {
        "colab": {
          "base_uri": "https://localhost:8080/"
        },
        "id": "s5SgBgP9Luff",
        "outputId": "18251ba3-a37f-42e6-9e04-da6081428324"
      },
      "execution_count": 31,
      "outputs": [
        {
          "output_type": "stream",
          "name": "stdout",
          "text": [
            "Hello, my name is HM. I play in stricker in certer\n"
          ]
        }
      ]
    },
    {
      "cell_type": "markdown",
      "source": [
        "\n",
        "\n",
        "```\n",
        "def __add__(self, other):\n",
        "  return self.name + \" \" + other.name \n",
        "```\n",
        "더해져 나오는 내장함수\n"
      ],
      "metadata": {
        "id": "4bBsiSiWMiRn"
      }
    },
    {
      "cell_type": "code",
      "source": [
        "heungmin = SoccerPlayer('HM', 'stricker', 7)\n",
        "jisung = SoccerPlayer('JS', 'MF', 7)\n",
        "print(heungmin + jisung)"
      ],
      "metadata": {
        "colab": {
          "base_uri": "https://localhost:8080/"
        },
        "id": "LGndSAHsMtY5",
        "outputId": "998dab22-9528-4992-cb96-cf4d148f3636"
      },
      "execution_count": 33,
      "outputs": [
        {
          "output_type": "stream",
          "name": "stdout",
          "text": [
            "HM JS\n"
          ]
        }
      ]
    },
    {
      "cell_type": "code",
      "source": [
        "heungmin = SoccerPlayer('HM', 'stricker', 7)\n",
        "print(heungmin.back_number)\n",
        "SoccerPlayer.change_back_number(heungmin, 8)\n",
        "print(heungmin.back_number)"
      ],
      "metadata": {
        "colab": {
          "base_uri": "https://localhost:8080/"
        },
        "id": "0gKeB3j_qGDX",
        "outputId": "8d3e4587-3b90-4f72-bf69-43444a5670c1"
      },
      "execution_count": 25,
      "outputs": [
        {
          "output_type": "stream",
          "name": "stdout",
          "text": [
            "7\n",
            "선수의 등번호를 변경합니다 : From 7 to 8\n",
            "8\n"
          ]
        }
      ]
    },
    {
      "cell_type": "code",
      "source": [
        "# class introPlayer(SoccerPlayer):\n",
        "#   def __str__(self):\n",
        "#     return 'Hello, my name is %s. I play in %s in certer' %(self.name, self.position)\n",
        "\n",
        "#   def change_back_number(self, new_number):\n",
        "#     print('선수의 등번호를 변경합니다 : From %d to %d' %(self.back_number, new_number))\n",
        "#     self.back_number = new_number"
      ],
      "metadata": {
        "id": "Q0hfg7Skx9g5"
      },
      "execution_count": 13,
      "outputs": []
    },
    {
      "cell_type": "markdown",
      "source": [
        "javascript this가 연상됨"
      ],
      "metadata": {
        "id": "eHnwnjlk_RRp"
      }
    },
    {
      "cell_type": "markdown",
      "source": [
        "맨글링?"
      ],
      "metadata": {
        "id": "FuupOEAPmgXT"
      }
    },
    {
      "cell_type": "markdown",
      "source": [
        "# Note Class\n"
      ],
      "metadata": {
        "id": "Zr--Hm5ISl3R"
      }
    },
    {
      "cell_type": "code",
      "source": [
        "class Note(object):\n",
        "  def __init__(self, content = None):\n",
        "    self.content = content\n",
        "\n",
        "  def write_content(self, content):\n",
        "    self.content = content\n",
        "\n",
        "  def remove_all(self):\n",
        "    self.content=\"\"\n",
        "  \n",
        "  def __add__(self, other):\n",
        "    return self.content + other.content\n",
        "\n",
        "  def __str__(self):\n",
        "    return self.content"
      ],
      "metadata": {
        "id": "G6UTT1N4mfa0"
      },
      "execution_count": 35,
      "outputs": []
    },
    {
      "cell_type": "code",
      "source": [
        "class Notebook(object):\n",
        "  def __init__(self, title):\n",
        "    self.title = title\n",
        "    self.page_number = 1\n",
        "    self.notes = {}\n",
        "\n",
        "  def add_note(self, note, page=0):\n",
        "    if self.page_number < 300:\n",
        "      if page == 0:\n",
        "        self.notes[self.page_number] = note\n",
        "        self.page_number += 1\n",
        "      else:\n",
        "        self.notes = {page:note}\n",
        "        self.page_number += 1\n",
        "      \n",
        "    else:\n",
        "      print(\"page가 모두 채워졌습니다\")\n",
        "\n",
        "  def remove_note(self, page_number):\n",
        "    if page_number in self.notes.keys():\n",
        "      return self.notes.pop(page_number)\n",
        "    else:\n",
        "      print('해당 페이지는 존재하지 않습니다.')\n",
        "\n",
        "  def get_number_of_pages(self):\n",
        "    return len(self.notes.keys())"
      ],
      "metadata": {
        "id": "Z3oGjJ5br-cI"
      },
      "execution_count": 40,
      "outputs": []
    },
    {
      "cell_type": "code",
      "source": [
        "my_notebook = Notebook(\"강의노트\")\n",
        "my_notebook"
      ],
      "metadata": {
        "colab": {
          "base_uri": "https://localhost:8080/"
        },
        "id": "zNW79FdFToUj",
        "outputId": "bea80f32-acf7-431f-e481-752631311cc7"
      },
      "execution_count": 41,
      "outputs": [
        {
          "output_type": "execute_result",
          "data": {
            "text/plain": [
              "<__main__.Notebook at 0x7fe719189700>"
            ]
          },
          "metadata": {},
          "execution_count": 41
        }
      ]
    },
    {
      "cell_type": "code",
      "source": [
        "new_note = Note(\"입이 심심\")\n",
        "print(new_note)\n",
        "new_note"
      ],
      "metadata": {
        "colab": {
          "base_uri": "https://localhost:8080/"
        },
        "id": "ib2lPguGUAkr",
        "outputId": "30a3f8b2-016c-4015-e04c-d1cc0ee27d9c"
      },
      "execution_count": 42,
      "outputs": [
        {
          "output_type": "stream",
          "name": "stdout",
          "text": [
            "입이 심심\n"
          ]
        },
        {
          "output_type": "execute_result",
          "data": {
            "text/plain": [
              "<__main__.Note at 0x7fe719189670>"
            ]
          },
          "metadata": {},
          "execution_count": 42
        }
      ]
    },
    {
      "cell_type": "code",
      "source": [
        "new_note100 = Note('100페이지')"
      ],
      "metadata": {
        "id": "-oaqs5eRUMAG"
      },
      "execution_count": 43,
      "outputs": []
    },
    {
      "cell_type": "code",
      "source": [
        "my_notebook.add_note(new_note)\n",
        "my_notebook.add_note(new_note100, 100)"
      ],
      "metadata": {
        "id": "ZkV_TGGxURXU"
      },
      "execution_count": 47,
      "outputs": []
    },
    {
      "cell_type": "code",
      "source": [
        "print(my_notebook)\n",
        "my_notebook.get_number_of_pages()"
      ],
      "metadata": {
        "colab": {
          "base_uri": "https://localhost:8080/"
        },
        "id": "0LTH2tofUdnE",
        "outputId": "34f9cf57-c127-4182-c2a3-310fb6fb08d3"
      },
      "execution_count": 48,
      "outputs": [
        {
          "output_type": "stream",
          "name": "stdout",
          "text": [
            "<__main__.Notebook object at 0x7fe719189700>\n"
          ]
        },
        {
          "output_type": "execute_result",
          "data": {
            "text/plain": [
              "1"
            ]
          },
          "metadata": {},
          "execution_count": 48
        }
      ]
    },
    {
      "cell_type": "code",
      "source": [
        "print(my_notebook.notes[100])"
      ],
      "metadata": {
        "colab": {
          "base_uri": "https://localhost:8080/"
        },
        "id": "9Q673u_hUr-j",
        "outputId": "29b7868f-70dc-4388-d225-1658dce4f5c3"
      },
      "execution_count": 49,
      "outputs": [
        {
          "output_type": "stream",
          "name": "stdout",
          "text": [
            "100페이지\n"
          ]
        }
      ]
    },
    {
      "cell_type": "markdown",
      "source": [
        "# 상속 Ingeritance (33:00)\n",
        "\n",
        "부모 클래스로부터 속성과 method를 물려받은 자식 클래스 생성"
      ],
      "metadata": {
        "id": "Za8bPyxSvzOF"
      }
    },
    {
      "cell_type": "code",
      "source": [
        "class Person(object):    #부모 클래스 Person 선언\n",
        "  def __init__(self, name, age):\n",
        "    self.name = name\n",
        "    self.age = age\n",
        "\n",
        "  def about_me(self):    #method 선언\n",
        "    print('저의 이름은', self.name, '이구요, 제 나이는 ', str(self.age), \"입니다.\")\n",
        "\n",
        "  def __str__(self):    \n",
        "    return \"저의 이름은 {0} 이구요, 제 나이는 {1}입니다.\".format(self.name, self.age)\n",
        "\n",
        "class Korean(Person):\n",
        "  pass"
      ],
      "metadata": {
        "id": "Z3F4VIF5vxvc"
      },
      "execution_count": 70,
      "outputs": []
    },
    {
      "cell_type": "code",
      "source": [
        "first_korean = Korean('BK', 28)\n",
        "print(first_korean)"
      ],
      "metadata": {
        "colab": {
          "base_uri": "https://localhost:8080/"
        },
        "id": "xVX9qYZzxwmC",
        "outputId": "28e03168-0213-47ed-ce81-aff26c023794"
      },
      "execution_count": 71,
      "outputs": [
        {
          "output_type": "stream",
          "name": "stdout",
          "text": [
            "저의 이름은 BK 이구요, 제 나이는 28입니다.\n"
          ]
        }
      ]
    },
    {
      "cell_type": "code",
      "source": [
        "Person.about_me('BK', 28)"
      ],
      "metadata": {
        "colab": {
          "base_uri": "https://localhost:8080/",
          "height": 166
        },
        "id": "QOUxH6BszoEw",
        "outputId": "e84903bc-8e7a-4111-8d86-885eebbd4fc5"
      },
      "execution_count": 72,
      "outputs": [
        {
          "output_type": "error",
          "ename": "TypeError",
          "evalue": "ignored",
          "traceback": [
            "\u001b[0;31m---------------------------------------------------------------------------\u001b[0m",
            "\u001b[0;31mTypeError\u001b[0m                                 Traceback (most recent call last)",
            "\u001b[0;32m<ipython-input-72-1f012961ca95>\u001b[0m in \u001b[0;36m<module>\u001b[0;34m\u001b[0m\n\u001b[0;32m----> 1\u001b[0;31m \u001b[0mPerson\u001b[0m\u001b[0;34m.\u001b[0m\u001b[0mabout_me\u001b[0m\u001b[0;34m(\u001b[0m\u001b[0;34m'BK'\u001b[0m\u001b[0;34m,\u001b[0m \u001b[0;36m28\u001b[0m\u001b[0;34m)\u001b[0m\u001b[0;34m\u001b[0m\u001b[0;34m\u001b[0m\u001b[0m\n\u001b[0m",
            "\u001b[0;31mTypeError\u001b[0m: about_me() takes 1 positional argument but 2 were given"
          ]
        }
      ]
    },
    {
      "cell_type": "code",
      "source": [
        "class Employee(Person):\n",
        "  def __init__(self, name, age, gender, salary, hire_date):\n",
        "    #super는 self와 비슷하나, 부모클래스를 받아옴\n",
        "    super().__init__(name, age)\n",
        "    self.salary = salary\n",
        "    self.hire_date = hire_date\n",
        "\n",
        "  def do_work(self):\n",
        "    print(\"열심히 일을 하고 싶어요\")\n",
        "  \n",
        "  def about_me(self):    #부모 클래스 함수 재정의\n",
        "    super().about_me()\n",
        "    print(\"제 급여는 \", self.salary, \"제 입사일은 \", self.hire_date)"
      ],
      "metadata": {
        "id": "nuN0D6p-zz_O"
      },
      "execution_count": 76,
      "outputs": []
    },
    {
      "cell_type": "code",
      "source": [
        "first_person = Person('BK', 28)\n",
        "first_employee = Employee('BK', 28, 'F', '$50000', '2024/01/01')\n",
        "print(first_employee)\n",
        "first_employee.about_me()"
      ],
      "metadata": {
        "colab": {
          "base_uri": "https://localhost:8080/"
        },
        "id": "TVVsF6LjYX-s",
        "outputId": "6173ef58-5245-479b-cb6a-94b70289fa4e"
      },
      "execution_count": 78,
      "outputs": [
        {
          "output_type": "stream",
          "name": "stdout",
          "text": [
            "저의 이름은 BK 이구요, 제 나이는 28입니다.\n",
            "저의 이름은 BK 이구요, 제 나이는  28 입니다.\n",
            "제 급여는  $50000 제 입사일은  2024/01/01\n"
          ]
        }
      ]
    },
    {
      "cell_type": "markdown",
      "source": [
        "# Polymorphism 다형성\n",
        "\n",
        "- 같은 이름 메소드의 내부 로직을 다르게 작성\n",
        "- dynamic typing 특성, 상속에서 주로 발생\n"
      ],
      "metadata": {
        "id": "6J-eTFpeZdiu"
      }
    },
    {
      "cell_type": "markdown",
      "source": [
        "# Visibility 가시성\n",
        "\n",
        "- 객체의 정보를 볼 수 있는 레벨 조절 \n",
        "- Encapsulation / Information Hiding"
      ],
      "metadata": {
        "id": "_5_zvsApxEhY"
      }
    },
    {
      "cell_type": "code",
      "source": [
        "class Product(object):\n",
        "  pass"
      ],
      "metadata": {
        "id": "32O42f3nyGAd"
      },
      "execution_count": 2,
      "outputs": []
    },
    {
      "cell_type": "code",
      "source": [
        "# __ 없을 때\n",
        "class Inventory(object):\n",
        "  def __init__(self):\n",
        "    self.items = []    #__ : Private 변수 뜻함. 외부에서 접근 불가\n",
        "\n",
        "  def add_new_item(self, product):\n",
        "    if type(product) == Product:\n",
        "      self.items.append(product)\n",
        "      print(\"new item added\")\n",
        "    else:\n",
        "      raise ValueError(\"Invalid Item\")\n",
        "\n",
        "  def get_number_of_items(self):\n",
        "    return len(self.items)"
      ],
      "metadata": {
        "id": "xl4TjeEKbcBR"
      },
      "execution_count": 81,
      "outputs": []
    },
    {
      "cell_type": "code",
      "source": [
        "my_inventory = Inventory()\n",
        "my_inventory.add_new_item(Product())\n",
        "my_inventory.add_new_item(Product())\n",
        "print(my_inventory.get_number_of_items())"
      ],
      "metadata": {
        "colab": {
          "base_uri": "https://localhost:8080/"
        },
        "id": "QHMxKc34biLJ",
        "outputId": "1d34332a-89a0-4b23-be7c-0974433ddf9b"
      },
      "execution_count": 82,
      "outputs": [
        {
          "output_type": "stream",
          "name": "stdout",
          "text": [
            "new item added\n",
            "new item added\n",
            "2\n"
          ]
        }
      ]
    },
    {
      "cell_type": "code",
      "source": [
        "print(my_inventory.items)\n",
        "data = my_inventory.items\n",
        "data"
      ],
      "metadata": {
        "colab": {
          "base_uri": "https://localhost:8080/"
        },
        "id": "a861lcmTblfa",
        "outputId": "016b5286-a16b-4c9c-f304-92272f077a7b"
      },
      "execution_count": 86,
      "outputs": [
        {
          "output_type": "stream",
          "name": "stdout",
          "text": [
            "[<__main__.Product object at 0x7fe7174c8f40>, <__main__.Product object at 0x7fe7174c8760>]\n"
          ]
        },
        {
          "output_type": "execute_result",
          "data": {
            "text/plain": [
              "[<__main__.Product at 0x7fe7174c8f40>, <__main__.Product at 0x7fe7174c8760>]"
            ]
          },
          "metadata": {},
          "execution_count": 86
        }
      ]
    },
    {
      "cell_type": "code",
      "source": [
        "# __ 있을 때\n",
        "class Inventory(object):\n",
        "  def __init__(self):\n",
        "    self.__items = []    #__ : Private 변수 뜻함. 외부에서 접근 불가\n",
        "\n",
        "  def add_new_item(self, product):\n",
        "    if type(product) == Product:\n",
        "      self.__items.append(product)\n",
        "      print(\"new item added\")\n",
        "    else:\n",
        "      raise ValueError(\"Invalid Item\")\n",
        "\n",
        "  def get_number_of_items(self):\n",
        "    return len(self.__items)"
      ],
      "metadata": {
        "id": "LupcEV4pxItG"
      },
      "execution_count": 85,
      "outputs": []
    },
    {
      "cell_type": "code",
      "source": [
        "my_inventory = Inventory()\n",
        "my_inventory.add_new_item(Product())\n",
        "my_inventory.add_new_item(Product())\n",
        "print(my_inventory.get_number_of_items())"
      ],
      "metadata": {
        "colab": {
          "base_uri": "https://localhost:8080/"
        },
        "id": "J92LHDDix6cd",
        "outputId": "196f9db9-ae84-4da9-c818-149f4c9577d8"
      },
      "execution_count": 11,
      "outputs": [
        {
          "output_type": "stream",
          "name": "stdout",
          "text": [
            "new item added\n",
            "new item added\n",
            "2\n"
          ]
        }
      ]
    },
    {
      "cell_type": "code",
      "source": [
        "my_inventory.__items\n",
        "\n",
        "# 조회 불가"
      ],
      "metadata": {
        "colab": {
          "base_uri": "https://localhost:8080/",
          "height": 166
        },
        "id": "D2aFYatqbTQh",
        "outputId": "47b71817-799a-41fa-c15a-6fbd3469ad52"
      },
      "execution_count": 80,
      "outputs": [
        {
          "output_type": "error",
          "ename": "AttributeError",
          "evalue": "ignored",
          "traceback": [
            "\u001b[0;31m---------------------------------------------------------------------------\u001b[0m",
            "\u001b[0;31mAttributeError\u001b[0m                            Traceback (most recent call last)",
            "\u001b[0;32m<ipython-input-80-11cc93e1f4f4>\u001b[0m in \u001b[0;36m<module>\u001b[0;34m\u001b[0m\n\u001b[0;32m----> 1\u001b[0;31m \u001b[0mmy_inventory\u001b[0m\u001b[0;34m.\u001b[0m\u001b[0m__items\u001b[0m\u001b[0;34m\u001b[0m\u001b[0;34m\u001b[0m\u001b[0m\n\u001b[0m",
            "\u001b[0;31mAttributeError\u001b[0m: 'Inventory' object has no attribute '__items'"
          ]
        }
      ]
    },
    {
      "cell_type": "markdown",
      "source": [
        "# decorate"
      ],
      "metadata": {
        "id": "TLbJTtyH09iw"
      }
    },
    {
      "cell_type": "code",
      "source": [
        "class Inventory(object):\n",
        "  def __init__(self):\n",
        "    self.__items = []\n",
        "\n",
        "  def add_new_item(self, product):\n",
        "    if type(product) == Product:\n",
        "      self.__items.append(product)\n",
        "      print(\"new item added\")\n",
        "    else:\n",
        "      raise ValueError(\"Invalid Item\")\n",
        "\n",
        "  def get_number_of_items(self):\n",
        "    return len(self.__items)\n",
        "\n",
        "  @property    #property decorator 숨겨진 변수 반환\n",
        "  def items(self):\n",
        "    return self.__items"
      ],
      "metadata": {
        "id": "MMxg_2Nz0RsY"
      },
      "execution_count": 91,
      "outputs": []
    },
    {
      "cell_type": "code",
      "source": [
        "my_inventory = Inventory()\n",
        "my_inventory.add_new_item(Product())\n",
        "my_inventory.add_new_item(Product())\n",
        "print(my_inventory.get_number_of_items())"
      ],
      "metadata": {
        "colab": {
          "base_uri": "https://localhost:8080/"
        },
        "id": "pbMTMk6acFCK",
        "outputId": "08f3a158-1879-46b3-986e-41c792ef5116"
      },
      "execution_count": 92,
      "outputs": [
        {
          "output_type": "stream",
          "name": "stdout",
          "text": [
            "new item added\n",
            "new item added\n",
            "2\n"
          ]
        }
      ]
    },
    {
      "cell_type": "code",
      "source": [
        "my_inventory.__items"
      ],
      "metadata": {
        "colab": {
          "base_uri": "https://localhost:8080/",
          "height": 166
        },
        "id": "DTkflQ0WcWYu",
        "outputId": "36b5cc43-1df9-4bf8-ef16-b0a876d8aa8a"
      },
      "execution_count": 93,
      "outputs": [
        {
          "output_type": "error",
          "ename": "AttributeError",
          "evalue": "ignored",
          "traceback": [
            "\u001b[0;31m---------------------------------------------------------------------------\u001b[0m",
            "\u001b[0;31mAttributeError\u001b[0m                            Traceback (most recent call last)",
            "\u001b[0;32m<ipython-input-93-11cc93e1f4f4>\u001b[0m in \u001b[0;36m<module>\u001b[0;34m\u001b[0m\n\u001b[0;32m----> 1\u001b[0;31m \u001b[0mmy_inventory\u001b[0m\u001b[0;34m.\u001b[0m\u001b[0m__items\u001b[0m\u001b[0;34m\u001b[0m\u001b[0;34m\u001b[0m\u001b[0m\n\u001b[0m",
            "\u001b[0;31mAttributeError\u001b[0m: 'Inventory' object has no attribute '__items'"
          ]
        }
      ]
    },
    {
      "cell_type": "code",
      "source": [
        "my_inventory.items\n",
        "my_inventory.items.append(\"a\")"
      ],
      "metadata": {
        "id": "87QkKt_JcZUg"
      },
      "execution_count": 95,
      "outputs": []
    },
    {
      "cell_type": "markdown",
      "source": [
        "copy를 해서 반환해준다.\n",
        "deep copy 방지"
      ],
      "metadata": {
        "id": "xQrWd1I4cnj7"
      }
    },
    {
      "cell_type": "code",
      "source": [
        "class Student:\n",
        "  def __init__(self, name, marks):\n",
        "    self.name = name\n",
        "    self.marks = marks\n",
        "\n",
        "    @property\n",
        "    def gotmarks(self):\n",
        "      return self.name + 'obtained' + self.marks + 'marks'"
      ],
      "metadata": {
        "id": "0CXJ378v1Alj"
      },
      "execution_count": null,
      "outputs": []
    },
    {
      "cell_type": "markdown",
      "source": [
        "# 추가 개념\n",
        "\n",
        "* first-class objects\n",
        "* inner function\n",
        "* decorator"
      ],
      "metadata": {
        "id": "uJKFiHr61ZT7"
      }
    },
    {
      "cell_type": "markdown",
      "source": [
        "**first-class object 일급객체/일등함수**\n",
        "\n",
        "변수나 데이터 구조에 할당 가능한 객체\n",
        "파라미터로 전달, 리턴 값 사용\n",
        "\n",
        "**inner function**\n",
        "\n",
        "함수 내에 또 다른 함수\n",
        "inner functio을 return 값으로 반환하면 **closure**"
      ],
      "metadata": {
        "id": "XL38AnBz1iEC"
      }
    },
    {
      "cell_type": "code",
      "source": [
        "#closure\n",
        "\n",
        "def tag_func(tag, text):\n",
        "  text = text\n",
        "  tag = tag\n",
        "\n",
        "  def inner_func():\n",
        "    return '<{0}>{1}<{0}>'.format(tag, text)\n",
        "  \n",
        "  return inner_func"
      ],
      "metadata": {
        "id": "oxEAZJcu2Hr5"
      },
      "execution_count": 101,
      "outputs": []
    },
    {
      "cell_type": "code",
      "source": [
        "h1_func = tag_func('title', 'This is py class')\n",
        "print(h1_func)"
      ],
      "metadata": {
        "colab": {
          "base_uri": "https://localhost:8080/"
        },
        "id": "efRYiaEH2oLi",
        "outputId": "abd5fbe6-af2b-4d75-e4a8-08566cc43713"
      },
      "execution_count": 102,
      "outputs": [
        {
          "output_type": "stream",
          "name": "stdout",
          "text": [
            "<function tag_func.<locals>.inner_func at 0x7fe71bf45310>\n"
          ]
        }
      ]
    },
    {
      "cell_type": "code",
      "source": [
        "#complicated closure\n",
        "def star(func):\n",
        "  def inner(*args, **kwargs):\n",
        "    print('*'*30)\n",
        "    func(*args, **kwargs)\n",
        "    print('*'*30)\n",
        "  return inner\n",
        "\n",
        "@star    #별로 감싼 형태\n",
        "def printer(msg):\n",
        "  print(msg)\n",
        "printer('Hello')"
      ],
      "metadata": {
        "colab": {
          "base_uri": "https://localhost:8080/"
        },
        "id": "IXSOGqw6201s",
        "outputId": "7d398d3a-8a0c-4d5c-b369-234200541f26"
      },
      "execution_count": 103,
      "outputs": [
        {
          "output_type": "stream",
          "name": "stdout",
          "text": [
            "******************************\n",
            "Hello\n",
            "******************************\n"
          ]
        }
      ]
    },
    {
      "cell_type": "code",
      "source": [
        "#decorator function\n",
        "def generate_power(exponent):\n",
        "  def wrapper(f):\n",
        "    def inner(*args):\n",
        "      result = f(*args)\n",
        "      return exponent**result\n",
        "    return inner\n",
        "  return wrapper\n",
        "\n",
        "@generate_power(2)\n",
        "def raise_two(n):\n",
        "  return n**2"
      ],
      "metadata": {
        "id": "kI5lhiSA3gRZ"
      },
      "execution_count": 104,
      "outputs": []
    },
    {
      "cell_type": "code",
      "source": [
        "print(raise_two(7))"
      ],
      "metadata": {
        "colab": {
          "base_uri": "https://localhost:8080/"
        },
        "id": "0ZpXS3Ih37c1",
        "outputId": "0b0d725c-a18b-41be-f8eb-85334728427a"
      },
      "execution_count": 105,
      "outputs": [
        {
          "output_type": "stream",
          "name": "stdout",
          "text": [
            "562949953421312\n"
          ]
        }
      ]
    }
  ]
}